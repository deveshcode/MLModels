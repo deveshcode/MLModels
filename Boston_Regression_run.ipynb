{
 "cells": [
  {
   "cell_type": "code",
   "execution_count": 1,
   "metadata": {},
   "outputs": [
    {
     "name": "stdout",
     "output_type": "stream",
     "text": [
      "Starting Spark application\n"
     ]
    },
    {
     "data": {
      "text/html": [
       "<table>\n",
       "<tr><th>ID</th><th>YARN Application ID</th><th>Kind</th><th>State</th><th>Spark UI</th><th>Driver log</th><th>User</th><th>Current session?</th></tr><tr><td>0</td><td>None</td><td>pyspark</td><td>idle</td><td></td><td></td><td>None</td><td>✔</td></tr></table>"
      ],
      "text/plain": [
       "<IPython.core.display.HTML object>"
      ]
     },
     "metadata": {},
     "output_type": "display_data"
    },
    {
     "data": {
      "application/vnd.jupyter.widget-view+json": {
       "model_id": "1324d6f51da84340a803a63d09fe9e9c",
       "version_major": 2,
       "version_minor": 0
      },
      "text/plain": [
       "FloatProgress(value=0.0, bar_style='info', description='Progress:', layout=Layout(height='25px', width='50%'),…"
      ]
     },
     "metadata": {},
     "output_type": "display_data"
    },
    {
     "name": "stdout",
     "output_type": "stream",
     "text": [
      "SparkSession available as 'spark'.\n"
     ]
    },
    {
     "data": {
      "application/vnd.jupyter.widget-view+json": {
       "model_id": "",
       "version_major": 2,
       "version_minor": 0
      },
      "text/plain": [
       "FloatProgress(value=0.0, bar_style='info', description='Progress:', layout=Layout(height='25px', width='50%'),…"
      ]
     },
     "metadata": {},
     "output_type": "display_data"
    },
    {
     "name": "stdout",
     "output_type": "stream",
     "text": [
      "2"
     ]
    }
   ],
   "source": [
    "1+1"
   ]
  },
  {
   "cell_type": "code",
   "execution_count": 2,
   "metadata": {},
   "outputs": [
    {
     "data": {
      "application/vnd.jupyter.widget-view+json": {
       "model_id": "",
       "version_major": 2,
       "version_minor": 0
      },
      "text/plain": [
       "FloatProgress(value=0.0, bar_style='info', description='Progress:', layout=Layout(height='25px', width='50%'),…"
      ]
     },
     "metadata": {},
     "output_type": "display_data"
    }
   ],
   "source": [
    "from pyspark.sql import SparkSession\n",
    "from pyspark.ml.feature import VectorAssembler\n",
    "from pyspark.ml.regression import LinearRegression\n",
    "from pyspark.ml import Pipeline\n",
    "from mosaicml import *\n",
    "from mosaicml.constants import MLModelFlavours\n",
    "from werkzeug.datastructures import FileStorage\n",
    "import pandas as pd\n",
    "import os, tempfile"
   ]
  },
  {
   "cell_type": "code",
   "execution_count": 3,
   "metadata": {},
   "outputs": [
    {
     "data": {
      "application/vnd.jupyter.widget-view+json": {
       "model_id": "",
       "version_major": 2,
       "version_minor": 0
      },
      "text/plain": [
       "FloatProgress(value=0.0, bar_style='info', description='Progress:', layout=Layout(height='25px', width='50%'),…"
      ]
     },
     "metadata": {},
     "output_type": "display_data"
    },
    {
     "name": "stdout",
     "output_type": "stream",
     "text": [
      "-----reading data from azure\n",
      "+-------+----+-----+----+-----+-----+-----+------+---+---+-------+------+-----+----+\n",
      "|   crim|  zn|indus|chas|  nox|   rm|  age|   dis|rad|tax|ptratio|     b|lstat|medv|\n",
      "+-------+----+-----+----+-----+-----+-----+------+---+---+-------+------+-----+----+\n",
      "|0.00632|18.0| 2.31|   0|0.538|6.575| 65.2|  4.09|  1|296|   15.3| 396.9| 4.98|24.0|\n",
      "|0.02731| 0.0| 7.07|   0|0.469|6.421| 78.9|4.9671|  2|242|   17.8| 396.9| 9.14|21.6|\n",
      "|0.02729| 0.0| 7.07|   0|0.469|7.185| 61.1|4.9671|  2|242|   17.8|392.83| 4.03|34.7|\n",
      "|0.03237| 0.0| 2.18|   0|0.458|6.998| 45.8|6.0622|  3|222|   18.7|394.63| 2.94|33.4|\n",
      "|0.06905| 0.0| 2.18|   0|0.458|7.147| 54.2|6.0622|  3|222|   18.7| 396.9| 5.33|36.2|\n",
      "|0.02985| 0.0| 2.18|   0|0.458| 6.43| 58.7|6.0622|  3|222|   18.7|394.12| 5.21|28.7|\n",
      "|0.08829|12.5| 7.87|   0|0.524|6.012| 66.6|5.5605|  5|311|   15.2| 395.6|12.43|22.9|\n",
      "|0.14455|12.5| 7.87|   0|0.524|6.172| 96.1|5.9505|  5|311|   15.2| 396.9|19.15|27.1|\n",
      "|0.21124|12.5| 7.87|   0|0.524|5.631|100.0|6.0821|  5|311|   15.2|386.63|29.93|16.5|\n",
      "|0.17004|12.5| 7.87|   0|0.524|6.004| 85.9|6.5921|  5|311|   15.2|386.71| 17.1|18.9|\n",
      "|0.22489|12.5| 7.87|   0|0.524|6.377| 94.3|6.3467|  5|311|   15.2|392.52|20.45|15.0|\n",
      "|0.11747|12.5| 7.87|   0|0.524|6.009| 82.9|6.2267|  5|311|   15.2| 396.9|13.27|18.9|\n",
      "|0.09378|12.5| 7.87|   0|0.524|5.889| 39.0|5.4509|  5|311|   15.2| 390.5|15.71|21.7|\n",
      "|0.62976| 0.0| 8.14|   0|0.538|5.949| 61.8|4.7075|  4|307|   21.0| 396.9| 8.26|20.4|\n",
      "|0.63796| 0.0| 8.14|   0|0.538|6.096| 84.5|4.4619|  4|307|   21.0|380.02|10.26|18.2|\n",
      "|0.62739| 0.0| 8.14|   0|0.538|5.834| 56.5|4.4986|  4|307|   21.0|395.62| 8.47|19.9|\n",
      "|1.05393| 0.0| 8.14|   0|0.538|5.935| 29.3|4.4986|  4|307|   21.0|386.85| 6.58|23.1|\n",
      "| 0.7842| 0.0| 8.14|   0|0.538| 5.99| 81.7|4.2579|  4|307|   21.0|386.75|14.67|17.5|\n",
      "|0.80271| 0.0| 8.14|   0|0.538|5.456| 36.6|3.7965|  4|307|   21.0|288.99|11.69|20.2|\n",
      "| 0.7258| 0.0| 8.14|   0|0.538|5.727| 69.5|3.7965|  4|307|   21.0|390.95|11.28|18.2|\n",
      "+-------+----+-----+----+-----+-----+-----+------+---+---+-------+------+-----+----+\n",
      "only showing top 20 rows"
     ]
    }
   ],
   "source": [
    "print(\"-----reading data from azure\")\n",
    "storage_account_name = \"pocmosaic\"\n",
    "storage_account_access_key = \"iX6jZejeNh1bUejdSRYk+4X2S/pAbTy+idkTM5UAw2HxgxSnaYGJSN+ffzZAQ5/Q6xQe2Ja74Re9nKHMVmsGhA==\"\n",
    "file_location = \"wasbs://container1@pocmosaic.blob.core.windows.net/catalog/local_file_upload/RatanBBostonHousing.csv\"\n",
    "file_type = \"csv\"\n",
    "spark.conf.set(\"fs.azure.account.key.\"+storage_account_name+\".blob.core.windows.net\",storage_account_access_key)\n",
    "dataset = spark.read.option(\"header\", \"true\").format(file_type).option(\"inferSchema\", \"true\").load(file_location)\n",
    "dataset.show()\n"
   ]
  },
  {
   "cell_type": "code",
   "execution_count": 4,
   "metadata": {},
   "outputs": [
    {
     "data": {
      "application/vnd.jupyter.widget-view+json": {
       "model_id": "",
       "version_major": 2,
       "version_minor": 0
      },
      "text/plain": [
       "FloatProgress(value=0.0, bar_style='info', description='Progress:', layout=Layout(height='25px', width='50%'),…"
      ]
     },
     "metadata": {},
     "output_type": "display_data"
    },
    {
     "name": "stdout",
     "output_type": "stream",
     "text": [
      "-----splitting data\n",
      "-----creating pipeline"
     ]
    }
   ],
   "source": [
    "print(\"-----splitting data\")\n",
    "train_data,test_data = dataset.randomSplit([0.8,0.2])\n",
    "\n",
    "print(\"-----creating pipeline\")\n",
    "stage_1 = VectorAssembler(inputCols=['crim', 'zn', 'indus', 'chas', 'nox', 'rm', 'age', 'dis', 'rad', 'tax', 'ptratio', 'b', 'lstat'], outputCol = 'Attributes')\n",
    "# define stage 5: logistic regression model                          \n",
    "stage_2 = LinearRegression(featuresCol = 'Attributes', labelCol = 'medv')\n",
    "\n",
    "# setup the pipeline\n",
    "regression_pipeline = Pipeline(stages= [stage_1, stage_2])\n"
   ]
  },
  {
   "cell_type": "code",
   "execution_count": 5,
   "metadata": {},
   "outputs": [
    {
     "data": {
      "application/vnd.jupyter.widget-view+json": {
       "model_id": "",
       "version_major": 2,
       "version_minor": 0
      },
      "text/plain": [
       "FloatProgress(value=0.0, bar_style='info', description='Progress:', layout=Layout(height='25px', width='50%'),…"
      ]
     },
     "metadata": {},
     "output_type": "display_data"
    },
    {
     "name": "stdout",
     "output_type": "stream",
     "text": [
      "-----training pipeline\n",
      "-----test data\n",
      "+-------+----+-----+----+------+-----+----+------+---+---+-------+------+-----+----+--------------------+------------------+\n",
      "|   crim|  zn|indus|chas|   nox|   rm| age|   dis|rad|tax|ptratio|     b|lstat|medv|          Attributes|        prediction|\n",
      "+-------+----+-----+----+------+-----+----+------+---+---+-------+------+-----+----+--------------------+------------------+\n",
      "| 0.0136|75.0|  4.0|   0|  0.41|5.888|47.6|7.3197|  3|469|   21.1| 396.9| 14.8|18.9|[0.0136,75.0,4.0,...|  15.4083418235927|\n",
      "| 0.0187|85.0| 4.15|   0| 0.429|6.516|27.7|8.5353|  4|351|   17.9|392.43| 6.36|23.1|[0.0187,85.0,4.15...|25.222978133139154|\n",
      "|0.01951|17.5| 1.38|   0|0.4161|7.104|59.5|9.2229|  3|216|   18.6|393.24| 8.05|33.0|[0.01951,17.5,1.3...|23.156016471958235|\n",
      "|0.02009|95.0| 2.68|   0|0.4161|8.034|31.9| 5.118|  4|224|   14.7|390.55| 2.88|50.0|[0.02009,95.0,2.6...| 42.16749722576602|\n",
      "|0.02177|82.5| 2.03|   0| 0.415| 7.61|15.7|  6.27|  2|348|   14.7|395.38| 3.11|42.3|[0.02177,82.5,2.0...| 36.45554010114272|\n",
      "|0.02729| 0.0| 7.07|   0| 0.469|7.185|61.1|4.9671|  2|242|   17.8|392.83| 4.03|34.7|[0.02729,0.0,7.07...| 30.26075562578149|\n",
      "|0.02875|28.0|15.04|   0| 0.464|6.211|28.9|3.6659|  4|270|   18.2|396.33| 6.21|25.0|[0.02875,28.0,15....| 29.09385297221803|\n",
      "|0.03049|55.0| 3.78|   0| 0.484|6.874|28.1|6.4654|  5|370|   17.6|387.97| 4.61|31.2|[0.03049,55.0,3.7...|28.210454062630333|\n",
      "|0.03615|80.0| 4.95|   0| 0.411| 6.63|23.4|5.1167|  4|245|   19.2| 396.9|  4.7|27.9|[0.03615,80.0,4.9...|31.244930384271935|\n",
      "|0.04297|52.5| 5.32|   0| 0.405|6.565|22.9|7.3172|  6|293|   16.6|371.72| 9.51|24.8|[0.04297,52.5,5.3...|26.830522624845237|\n",
      "|0.04337|21.0| 5.64|   0| 0.439|6.115|63.0|6.8147|  4|243|   16.8|393.97| 9.43|20.5|[0.04337,21.0,5.6...|24.230774564869375|\n",
      "|0.04544| 0.0| 3.24|   0|  0.46|6.144|32.2|5.8736|  4|430|   16.9|368.57| 9.09|19.8|[0.04544,0.0,3.24...|21.807854512059777|\n",
      "|0.05302| 0.0| 3.41|   0| 0.489|7.079|63.1|3.4145|  2|270|   17.8|396.06|  5.7|28.7|[0.05302,0.0,3.41...|30.284283053256495|\n",
      "|0.05479|33.0| 2.18|   0| 0.472|6.616|58.1|  3.37|  7|222|   18.4|393.36| 8.93|28.4|[0.05479,33.0,2.1...|30.080106486017073|\n",
      "|0.05735| 0.0| 4.49|   0| 0.449| 6.63|56.1|4.4377|  3|247|   18.5| 392.3| 6.53|26.6|[0.05735,0.0,4.49...|27.504199843178103|\n",
      "|0.05789|12.5| 6.07|   0| 0.409|5.878|21.4| 6.498|  4|345|   18.9|396.21|  8.1|22.0|[0.05789,12.5,6.0...|21.314882279782182|\n",
      "|0.06047| 0.0| 2.46|   0| 0.488|6.153|68.8|3.2797|  3|193|   17.8|387.11|13.15|29.6|[0.06047,0.0,2.46...|24.437098002735052|\n",
      "|0.06129|20.0| 3.33|   1|0.4429|7.645|49.7|5.2119|  5|216|   14.9|377.07| 3.01|46.0|[0.06129,20.0,3.3...| 39.18810841651861|\n",
      "|0.06588| 0.0| 2.46|   0| 0.488|7.765|83.3| 2.741|  3|193|   17.8|395.56| 7.56|39.8|[0.06588,0.0,2.46...| 33.71991000022699|\n",
      "|0.06617| 0.0| 3.24|   0|  0.46|5.868|25.8|5.2146|  4|430|   16.9|382.44| 9.97|19.3|[0.06617,0.0,3.24...| 21.38702885463215|\n",
      "+-------+----+-----+----+------+-----+----+------+---+---+-------+------+-----+----+--------------------+------------------+\n",
      "only showing top 20 rows"
     ]
    }
   ],
   "source": [
    "print(\"-----training pipeline\")\n",
    "regression_pipeline = regression_pipeline.fit(train_data)\n",
    "test_update = regression_pipeline.transform(test_data)\n",
    "# test_update.show()\n",
    "\n",
    "#Predict using the model\n",
    "print(\"-----test data\")\n",
    "test_update.show()\n"
   ]
  },
  {
   "cell_type": "code",
   "execution_count": 7,
   "metadata": {},
   "outputs": [
    {
     "data": {
      "application/vnd.jupyter.widget-view+json": {
       "model_id": "",
       "version_major": 2,
       "version_minor": 0
      },
      "text/plain": [
       "FloatProgress(value=0.0, bar_style='info', description='Progress:', layout=Layout(height='25px', width='50%'),…"
      ]
     },
     "metadata": {},
     "output_type": "display_data"
    },
    {
     "name": "stdout",
     "output_type": "stream",
     "text": [
      "-----defining & testing score function\n",
      "the prediction is {\"0\":-56.8627787775}"
     ]
    }
   ],
   "source": [
    "# define score function\n",
    "def score(model, request):\n",
    "    data = request.json\n",
    "    df = pd.DataFrame(data, columns=['crim', 'zn', 'indus', 'chas', 'nox', 'rm', 'age', 'dis', 'rad', 'tax', 'ptratio', 'b', 'lstat', 'medv'])\n",
    "    spark = SparkSession.builder.appName(\"jupyter-nb-test\").getOrCreate()\n",
    "    spark_df = spark.createDataFrame(df)\n",
    "    return model.transform(spark_df).toPandas()[\"prediction\"].to_json()\n",
    "\n",
    "print(\"-----defining & testing score function\")\n",
    "import requests\n",
    "req = requests.Request()\n",
    "req.json = [[1, -0.1, 0.0425, 0.0279, 2.4716, -15.2808, 4.2783, -0.0005, -1.4009, 0.2692, -0.013, -0.9905, 0.0084, -0.5533]]\n",
    "rez = score(regression_pipeline, req)\n",
    "print(\"the prediction is {}\".format(rez))\n"
   ]
  },
  {
   "cell_type": "code",
   "execution_count": 8,
   "metadata": {},
   "outputs": [],
   "source": [
    "%%local\n",
    "import os\n",
    "ai_server = os.environ[\"MOSAIC_AI_SERVER\"]\n",
    "project_id = os.environ[\"PROJECT_ID\"]\n",
    "token = os.environ[\"TOKEN\"]\n"
   ]
  },
  {
   "cell_type": "code",
   "execution_count": 9,
   "metadata": {},
   "outputs": [
    {
     "data": {
      "application/vnd.jupyter.widget-view+json": {
       "model_id": "",
       "version_major": 2,
       "version_minor": 0
      },
      "text/plain": [
       "FloatProgress(value=0.0, bar_style='info', description='Progress:', layout=Layout(height='25px', width='50%'),…"
      ]
     },
     "metadata": {},
     "output_type": "display_data"
    },
    {
     "name": "stdout",
     "output_type": "stream",
     "text": [
      "Successfully passed 'ai_server' as 'ai_server' to Spark kernel"
     ]
    }
   ],
   "source": [
    "%%send_to_spark -i ai_server -t str -n ai_server\n"
   ]
  },
  {
   "cell_type": "code",
   "execution_count": 10,
   "metadata": {},
   "outputs": [
    {
     "data": {
      "application/vnd.jupyter.widget-view+json": {
       "model_id": "",
       "version_major": 2,
       "version_minor": 0
      },
      "text/plain": [
       "FloatProgress(value=0.0, bar_style='info', description='Progress:', layout=Layout(height='25px', width='50%'),…"
      ]
     },
     "metadata": {},
     "output_type": "display_data"
    },
    {
     "name": "stdout",
     "output_type": "stream",
     "text": [
      "Successfully passed 'project_id' as 'project_id' to Spark kernel"
     ]
    }
   ],
   "source": [
    "%%send_to_spark -i project_id -t str -n project_id\n"
   ]
  },
  {
   "cell_type": "code",
   "execution_count": 11,
   "metadata": {},
   "outputs": [
    {
     "data": {
      "application/vnd.jupyter.widget-view+json": {
       "model_id": "",
       "version_major": 2,
       "version_minor": 0
      },
      "text/plain": [
       "FloatProgress(value=0.0, bar_style='info', description='Progress:', layout=Layout(height='25px', width='50%'),…"
      ]
     },
     "metadata": {},
     "output_type": "display_data"
    },
    {
     "name": "stdout",
     "output_type": "stream",
     "text": [
      "Successfully passed 'token' as 'token' to Spark kernel"
     ]
    }
   ],
   "source": [
    "%%send_to_spark -i token -t str -n token\n"
   ]
  },
  {
   "cell_type": "code",
   "execution_count": 12,
   "metadata": {},
   "outputs": [
    {
     "data": {
      "application/vnd.jupyter.widget-view+json": {
       "model_id": "",
       "version_major": 2,
       "version_minor": 0
      },
      "text/plain": [
       "FloatProgress(value=0.0, bar_style='info', description='Progress:', layout=Layout(height='25px', width='50%'),…"
      ]
     },
     "metadata": {},
     "output_type": "display_data"
    }
   ],
   "source": [
    "import os\n",
    "os.environ[\"MOSAIC_AI_SERVER\"] = ai_server\n",
    "os.environ[\"PROJECT_ID\"] = project_id\n",
    "os.environ[\"TOKEN\"] = token\n"
   ]
  },
  {
   "cell_type": "code",
   "execution_count": 14,
   "metadata": {},
   "outputs": [
    {
     "data": {
      "application/vnd.jupyter.widget-view+json": {
       "model_id": "",
       "version_major": 2,
       "version_minor": 0
      },
      "text/plain": [
       "FloatProgress(value=0.0, bar_style='info', description='Progress:', layout=Layout(height='25px', width='50%'),…"
      ]
     },
     "metadata": {},
     "output_type": "display_data"
    }
   ],
   "source": [
    "from mosaicml import *\n",
    "from mosaicml import constants\n",
    "constants.MosaicAI.server = \"http://mosaic-ai-backend:5000/registry/api\"\n"
   ]
  },
  {
   "cell_type": "code",
   "execution_count": null,
   "metadata": {},
   "outputs": [
    {
     "data": {
      "application/vnd.jupyter.widget-view+json": {
       "model_id": "22500a7d454f480785ae6b97c60651f8",
       "version_major": 2,
       "version_minor": 0
      },
      "text/plain": [
       "FloatProgress(value=0.0, bar_style='info', description='Progress:', layout=Layout(height='25px', width='50%'),…"
      ]
     },
     "metadata": {},
     "output_type": "display_data"
    }
   ],
   "source": [
    "register_model(regression_pipeline, score, \"Boston_Regression_Analysis_inter_july5\", \"pyspark model\", MLModelFlavours.pyspark)"
   ]
  },
  {
   "cell_type": "code",
   "execution_count": null,
   "metadata": {},
   "outputs": [],
   "source": []
  }
 ],
 "metadata": {
  "kernelspec": {
   "display_name": "PySpark",
   "language": "python",
   "name": "pysparkkernel"
  },
  "language_info": {
   "codemirror_mode": {
    "name": "python",
    "version": 3
   },
   "file_extension": ".py",
   "mimetype": "text/x-python",
   "name": "pyspark",
   "pygments_lexer": "python3"
  }
 },
 "nbformat": 4,
 "nbformat_minor": 5
}
