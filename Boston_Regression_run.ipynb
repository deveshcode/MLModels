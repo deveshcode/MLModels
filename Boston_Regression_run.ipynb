{
 "cells": [
  {
   "cell_type": "code",
   "execution_count": 19,
   "metadata": {},
   "outputs": [
    {
     "data": {
      "text/plain": [
       "'3.6.2'"
      ]
     },
     "execution_count": 19,
     "metadata": {},
     "output_type": "execute_result"
    }
   ],
   "source": [
    "%%local\n",
    "import platform\n",
    "platform.python_version()"
   ]
  },
  {
   "cell_type": "code",
   "execution_count": 18,
   "metadata": {},
   "outputs": [
    {
     "data": {
      "text/plain": [
       "'3.6.2'"
      ]
     },
     "execution_count": 18,
     "metadata": {},
     "output_type": "execute_result"
    }
   ],
   "source": [
    "import platform\n",
    "platform.python_version()"
   ]
  },
  {
   "cell_type": "code",
   "execution_count": 2,
   "metadata": {},
   "outputs": [
    {
     "data": {
      "application/vnd.jupyter.widget-view+json": {
       "model_id": "",
       "version_major": 2,
       "version_minor": 0
      },
      "text/plain": [
       "FloatProgress(value=0.0, bar_style='info', description='Progress:', layout=Layout(height='25px', width='50%'),…"
      ]
     },
     "metadata": {},
     "output_type": "display_data"
    }
   ],
   "source": [
    "from pyspark.sql import SparkSession\n",
    "from pyspark.ml.feature import VectorAssembler\n",
    "from pyspark.ml.regression import LinearRegression\n",
    "from pyspark.ml import Pipeline\n",
    "from mosaicml import *\n",
    "from mosaicml.constants import MLModelFlavours\n",
    "from werkzeug.datastructures import FileStorage\n",
    "import pandas as pd\n",
    "import os, tempfile"
   ]
  },
  {
   "cell_type": "code",
   "execution_count": 3,
   "metadata": {},
   "outputs": [
    {
     "data": {
      "application/vnd.jupyter.widget-view+json": {
       "model_id": "",
       "version_major": 2,
       "version_minor": 0
      },
      "text/plain": [
       "FloatProgress(value=0.0, bar_style='info', description='Progress:', layout=Layout(height='25px', width='50%'),…"
      ]
     },
     "metadata": {},
     "output_type": "display_data"
    },
    {
     "name": "stdout",
     "output_type": "stream",
     "text": [
      "-----reading data from azure\n",
      "+-------+----+-----+----+-----+-----+-----+------+---+---+-------+------+-----+----+\n",
      "|   crim|  zn|indus|chas|  nox|   rm|  age|   dis|rad|tax|ptratio|     b|lstat|medv|\n",
      "+-------+----+-----+----+-----+-----+-----+------+---+---+-------+------+-----+----+\n",
      "|0.00632|18.0| 2.31|   0|0.538|6.575| 65.2|  4.09|  1|296|   15.3| 396.9| 4.98|24.0|\n",
      "|0.02731| 0.0| 7.07|   0|0.469|6.421| 78.9|4.9671|  2|242|   17.8| 396.9| 9.14|21.6|\n",
      "|0.02729| 0.0| 7.07|   0|0.469|7.185| 61.1|4.9671|  2|242|   17.8|392.83| 4.03|34.7|\n",
      "|0.03237| 0.0| 2.18|   0|0.458|6.998| 45.8|6.0622|  3|222|   18.7|394.63| 2.94|33.4|\n",
      "|0.06905| 0.0| 2.18|   0|0.458|7.147| 54.2|6.0622|  3|222|   18.7| 396.9| 5.33|36.2|\n",
      "|0.02985| 0.0| 2.18|   0|0.458| 6.43| 58.7|6.0622|  3|222|   18.7|394.12| 5.21|28.7|\n",
      "|0.08829|12.5| 7.87|   0|0.524|6.012| 66.6|5.5605|  5|311|   15.2| 395.6|12.43|22.9|\n",
      "|0.14455|12.5| 7.87|   0|0.524|6.172| 96.1|5.9505|  5|311|   15.2| 396.9|19.15|27.1|\n",
      "|0.21124|12.5| 7.87|   0|0.524|5.631|100.0|6.0821|  5|311|   15.2|386.63|29.93|16.5|\n",
      "|0.17004|12.5| 7.87|   0|0.524|6.004| 85.9|6.5921|  5|311|   15.2|386.71| 17.1|18.9|\n",
      "|0.22489|12.5| 7.87|   0|0.524|6.377| 94.3|6.3467|  5|311|   15.2|392.52|20.45|15.0|\n",
      "|0.11747|12.5| 7.87|   0|0.524|6.009| 82.9|6.2267|  5|311|   15.2| 396.9|13.27|18.9|\n",
      "|0.09378|12.5| 7.87|   0|0.524|5.889| 39.0|5.4509|  5|311|   15.2| 390.5|15.71|21.7|\n",
      "|0.62976| 0.0| 8.14|   0|0.538|5.949| 61.8|4.7075|  4|307|   21.0| 396.9| 8.26|20.4|\n",
      "|0.63796| 0.0| 8.14|   0|0.538|6.096| 84.5|4.4619|  4|307|   21.0|380.02|10.26|18.2|\n",
      "|0.62739| 0.0| 8.14|   0|0.538|5.834| 56.5|4.4986|  4|307|   21.0|395.62| 8.47|19.9|\n",
      "|1.05393| 0.0| 8.14|   0|0.538|5.935| 29.3|4.4986|  4|307|   21.0|386.85| 6.58|23.1|\n",
      "| 0.7842| 0.0| 8.14|   0|0.538| 5.99| 81.7|4.2579|  4|307|   21.0|386.75|14.67|17.5|\n",
      "|0.80271| 0.0| 8.14|   0|0.538|5.456| 36.6|3.7965|  4|307|   21.0|288.99|11.69|20.2|\n",
      "| 0.7258| 0.0| 8.14|   0|0.538|5.727| 69.5|3.7965|  4|307|   21.0|390.95|11.28|18.2|\n",
      "+-------+----+-----+----+-----+-----+-----+------+---+---+-------+------+-----+----+\n",
      "only showing top 20 rows"
     ]
    }
   ],
   "source": [
    "print(\"-----reading data from azure\")\n",
    "storage_account_name = \"pocmosaic\"\n",
    "storage_account_access_key = \"iX6jZejeNh1bUejdSRYk+4X2S/pAbTy+idkTM5UAw2HxgxSnaYGJSN+ffzZAQ5/Q6xQe2Ja74Re9nKHMVmsGhA==\"\n",
    "file_location = \"wasbs://container1@pocmosaic.blob.core.windows.net/catalog/local_file_upload/RatanBBostonHousing.csv\"\n",
    "file_type = \"csv\"\n",
    "spark.conf.set(\"fs.azure.account.key.\"+storage_account_name+\".blob.core.windows.net\",storage_account_access_key)\n",
    "dataset = spark.read.option(\"header\", \"true\").format(file_type).option(\"inferSchema\", \"true\").load(file_location)\n",
    "dataset.show()\n"
   ]
  },
  {
   "cell_type": "code",
   "execution_count": 4,
   "metadata": {},
   "outputs": [
    {
     "data": {
      "application/vnd.jupyter.widget-view+json": {
       "model_id": "",
       "version_major": 2,
       "version_minor": 0
      },
      "text/plain": [
       "FloatProgress(value=0.0, bar_style='info', description='Progress:', layout=Layout(height='25px', width='50%'),…"
      ]
     },
     "metadata": {},
     "output_type": "display_data"
    },
    {
     "name": "stdout",
     "output_type": "stream",
     "text": [
      "-----splitting data\n",
      "-----creating pipeline"
     ]
    }
   ],
   "source": [
    "print(\"-----splitting data\")\n",
    "train_data,test_data = dataset.randomSplit([0.8,0.2])\n",
    "\n",
    "print(\"-----creating pipeline\")\n",
    "stage_1 = VectorAssembler(inputCols=['crim', 'zn', 'indus', 'chas', 'nox', 'rm', 'age', 'dis', 'rad', 'tax', 'ptratio', 'b', 'lstat'], outputCol = 'Attributes')\n",
    "# define stage 5: logistic regression model                          \n",
    "stage_2 = LinearRegression(featuresCol = 'Attributes', labelCol = 'medv')\n",
    "\n",
    "# setup the pipeline\n",
    "regression_pipeline = Pipeline(stages= [stage_1, stage_2])\n"
   ]
  },
  {
   "cell_type": "code",
   "execution_count": 5,
   "metadata": {},
   "outputs": [
    {
     "data": {
      "application/vnd.jupyter.widget-view+json": {
       "model_id": "",
       "version_major": 2,
       "version_minor": 0
      },
      "text/plain": [
       "FloatProgress(value=0.0, bar_style='info', description='Progress:', layout=Layout(height='25px', width='50%'),…"
      ]
     },
     "metadata": {},
     "output_type": "display_data"
    },
    {
     "name": "stdout",
     "output_type": "stream",
     "text": [
      "-----training pipeline\n",
      "-----test data\n",
      "+-------+-----+-----+----+------+-----+----+-------+---+---+-------+------+-----+----+--------------------+------------------+\n",
      "|   crim|   zn|indus|chas|   nox|   rm| age|    dis|rad|tax|ptratio|     b|lstat|medv|          Attributes|        prediction|\n",
      "+-------+-----+-----+----+------+-----+----+-------+---+---+-------+------+-----+----+--------------------+------------------+\n",
      "|0.00906| 90.0| 2.97|   0|   0.4|7.088|20.8| 7.3073|  1|285|   15.3|394.72| 7.85|32.2|[0.00906,90.0,2.9...|31.621202318759735|\n",
      "|0.01301| 35.0| 1.52|   0| 0.442|7.241|49.3| 7.0379|  1|284|   15.5|394.74| 5.49|32.7|[0.01301,35.0,1.5...|29.953422599120366|\n",
      "| 0.0136| 75.0|  4.0|   0|  0.41|5.888|47.6| 7.3197|  3|469|   21.1| 396.9| 14.8|18.9|[0.0136,75.0,4.0,...|15.439036072806132|\n",
      "|0.01432|100.0| 1.32|   0| 0.411|6.816|40.5| 8.3248|  5|256|   15.1| 392.9| 3.95|31.6|[0.01432,100.0,1....|  33.2428035628087|\n",
      "|0.01501| 80.0| 2.01|   0| 0.435|6.635|29.7|  8.344|  4|280|   17.0|390.94| 5.99|24.5|[0.01501,80.0,2.0...|27.506414395406274|\n",
      "|0.01538| 90.0| 3.75|   0| 0.394|7.454|34.2| 6.3361|  3|244|   15.9|386.34| 3.11|44.0|[0.01538,90.0,3.7...|37.585327800935225|\n",
      "|0.01709| 90.0| 2.02|   0|  0.41|6.728|36.1|12.1265|  5|187|   17.0|384.46|  4.5|30.1|[0.01709,90.0,2.0...|24.952991600741846|\n",
      "|0.02763| 75.0| 2.95|   0| 0.428|6.595|21.8| 5.4011|  3|252|   18.3|395.63| 4.32|30.8|[0.02763,75.0,2.9...|31.664499592771158|\n",
      "|0.03041|  0.0| 5.19|   0| 0.515|5.895|59.6|  5.615|  5|224|   20.2|394.81|10.56|18.5|[0.03041,0.0,5.19...| 19.09705884171798|\n",
      "| 0.0315| 95.0| 1.47|   0| 0.403|6.975|15.3| 7.6534|  3|402|   17.0| 396.9| 4.56|34.9|[0.0315,95.0,1.47...| 30.21996070405153|\n",
      "|0.03427|  0.0| 5.19|   0| 0.515|5.869|46.3| 5.2311|  5|224|   20.2| 396.9|  9.8|19.5|[0.03427,0.0,5.19...|20.079437131538903|\n",
      "|0.03466| 35.0| 6.06|   0|0.4379|6.031|23.3| 6.6407|  1|304|   16.9|362.25| 7.83|19.4|[0.03466,35.0,6.0...|23.447178218885924|\n",
      "|0.03537| 34.0| 6.09|   0| 0.433| 6.59|40.4| 5.4917|  7|329|   16.1|395.75|  9.5|22.0|[0.03537,34.0,6.0...|29.123545850570412|\n",
      "|0.03871| 52.5| 5.32|   0| 0.405|6.209|31.3| 7.3172|  6|293|   16.6| 396.9| 7.14|23.2|[0.03871,52.5,5.3...|27.285993763799787|\n",
      "|0.04379| 80.0| 3.37|   0| 0.398|5.787|31.1| 6.6115|  4|337|   16.1| 396.9|10.24|19.4|[0.04379,80.0,3.3...|26.081471496177866|\n",
      "|0.04527|  0.0|11.93|   0| 0.573| 6.12|76.7| 2.2875|  1|273|   21.0| 396.9| 9.08|20.6|[0.04527,0.0,11.9...|22.342867036457385|\n",
      "|0.04981| 21.0| 5.64|   0| 0.439|5.998|21.4| 6.8147|  4|243|   16.8| 396.9| 8.43|23.4|[0.04981,21.0,5.6...|24.161647225301326|\n",
      "|0.05059|  0.0| 4.49|   0| 0.449|6.389|48.0| 4.7794|  3|247|   18.5| 396.9| 9.62|23.9|[0.05059,0.0,4.49...|24.695569973168382|\n",
      "|0.05188|  0.0| 4.49|   0| 0.449|6.015|45.1| 4.4272|  3|247|   18.5|395.99|12.86|22.5|[0.05188,0.0,4.49...|22.210426645120055|\n",
      "|0.05561| 70.0| 2.24|   0|   0.4|7.041|10.0| 7.8278|  5|358|   14.8|371.58| 4.74|29.0|[0.05561,70.0,2.2...|31.984550111304173|\n",
      "+-------+-----+-----+----+------+-----+----+-------+---+---+-------+------+-----+----+--------------------+------------------+\n",
      "only showing top 20 rows"
     ]
    }
   ],
   "source": [
    "print(\"-----training pipeline\")\n",
    "regression_pipeline = regression_pipeline.fit(train_data)\n",
    "test_update = regression_pipeline.transform(test_data)\n",
    "# test_update.show()\n",
    "\n",
    "#Predict using the model\n",
    "print(\"-----test data\")\n",
    "test_update.show()\n"
   ]
  },
  {
   "cell_type": "code",
   "execution_count": 6,
   "metadata": {},
   "outputs": [
    {
     "data": {
      "application/vnd.jupyter.widget-view+json": {
       "model_id": "",
       "version_major": 2,
       "version_minor": 0
      },
      "text/plain": [
       "FloatProgress(value=0.0, bar_style='info', description='Progress:', layout=Layout(height='25px', width='50%'),…"
      ]
     },
     "metadata": {},
     "output_type": "display_data"
    },
    {
     "name": "stdout",
     "output_type": "stream",
     "text": [
      "-----defining & testing score function\n",
      "the prediction is {\"0\":-60.3333091477}"
     ]
    }
   ],
   "source": [
    "# define score function\n",
    "def score(model, request):\n",
    "    data = request.json\n",
    "    df = pd.DataFrame(data, columns=['crim', 'zn', 'indus', 'chas', 'nox', 'rm', 'age', 'dis', 'rad', 'tax', 'ptratio', 'b', 'lstat', 'medv'])\n",
    "    spark = SparkSession.builder.appName(\"jupyter-nb-test\").getOrCreate()\n",
    "    spark_df = spark.createDataFrame(df)\n",
    "    return model.transform(spark_df).toPandas()[\"prediction\"].to_json()\n",
    "\n",
    "print(\"-----defining & testing score function\")\n",
    "import requests\n",
    "req = requests.Request()\n",
    "req.json = [[1, -0.1, 0.0425, 0.0279, 2.4716, -15.2808, 4.2783, -0.0005, -1.4009, 0.2692, -0.013, -0.9905, 0.0084, -0.5533]]\n",
    "rez = score(regression_pipeline, req)\n",
    "print(\"the prediction is {}\".format(rez))\n"
   ]
  },
  {
   "cell_type": "code",
   "execution_count": 7,
   "metadata": {},
   "outputs": [],
   "source": [
    "%%local\n",
    "import os\n",
    "ai_server = os.environ[\"MOSAIC_AI_SERVER\"]\n",
    "project_id = os.environ[\"PROJECT_ID\"]\n",
    "token = os.environ[\"TOKEN\"]\n"
   ]
  },
  {
   "cell_type": "code",
   "execution_count": 8,
   "metadata": {},
   "outputs": [
    {
     "data": {
      "application/vnd.jupyter.widget-view+json": {
       "model_id": "",
       "version_major": 2,
       "version_minor": 0
      },
      "text/plain": [
       "FloatProgress(value=0.0, bar_style='info', description='Progress:', layout=Layout(height='25px', width='50%'),…"
      ]
     },
     "metadata": {},
     "output_type": "display_data"
    },
    {
     "name": "stdout",
     "output_type": "stream",
     "text": [
      "Successfully passed 'ai_server' as 'ai_server' to Spark kernel"
     ]
    }
   ],
   "source": [
    "%%send_to_spark -i ai_server -t str -n ai_server\n"
   ]
  },
  {
   "cell_type": "code",
   "execution_count": 9,
   "metadata": {},
   "outputs": [
    {
     "data": {
      "application/vnd.jupyter.widget-view+json": {
       "model_id": "",
       "version_major": 2,
       "version_minor": 0
      },
      "text/plain": [
       "FloatProgress(value=0.0, bar_style='info', description='Progress:', layout=Layout(height='25px', width='50%'),…"
      ]
     },
     "metadata": {},
     "output_type": "display_data"
    },
    {
     "name": "stdout",
     "output_type": "stream",
     "text": [
      "Successfully passed 'project_id' as 'project_id' to Spark kernel"
     ]
    }
   ],
   "source": [
    "%%send_to_spark -i project_id -t str -n project_id\n"
   ]
  },
  {
   "cell_type": "code",
   "execution_count": 10,
   "metadata": {},
   "outputs": [
    {
     "data": {
      "application/vnd.jupyter.widget-view+json": {
       "model_id": "",
       "version_major": 2,
       "version_minor": 0
      },
      "text/plain": [
       "FloatProgress(value=0.0, bar_style='info', description='Progress:', layout=Layout(height='25px', width='50%'),…"
      ]
     },
     "metadata": {},
     "output_type": "display_data"
    },
    {
     "name": "stdout",
     "output_type": "stream",
     "text": [
      "Successfully passed 'token' as 'token' to Spark kernel"
     ]
    }
   ],
   "source": [
    "%%send_to_spark -i token -t str -n token\n"
   ]
  },
  {
   "cell_type": "code",
   "execution_count": 11,
   "metadata": {},
   "outputs": [
    {
     "data": {
      "application/vnd.jupyter.widget-view+json": {
       "model_id": "",
       "version_major": 2,
       "version_minor": 0
      },
      "text/plain": [
       "FloatProgress(value=0.0, bar_style='info', description='Progress:', layout=Layout(height='25px', width='50%'),…"
      ]
     },
     "metadata": {},
     "output_type": "display_data"
    }
   ],
   "source": [
    "import os\n",
    "os.environ[\"MOSAIC_AI_SERVER\"] = ai_server\n",
    "os.environ[\"PROJECT_ID\"] = project_id\n",
    "os.environ[\"TOKEN\"] = token\n"
   ]
  },
  {
   "cell_type": "code",
   "execution_count": 13,
   "metadata": {},
   "outputs": [
    {
     "data": {
      "application/vnd.jupyter.widget-view+json": {
       "model_id": "",
       "version_major": 2,
       "version_minor": 0
      },
      "text/plain": [
       "FloatProgress(value=0.0, bar_style='info', description='Progress:', layout=Layout(height='25px', width='50%'),…"
      ]
     },
     "metadata": {},
     "output_type": "display_data"
    }
   ],
   "source": [
    "from mosaicml import *\n",
    "from mosaicml import constants\n",
    "constants.MosaicAI.server = \"http://mosaic-ai-backend:5000/registry/api\"\n"
   ]
  },
  {
   "cell_type": "code",
   "execution_count": 15,
   "metadata": {},
   "outputs": [
    {
     "data": {
      "application/vnd.jupyter.widget-view+json": {
       "model_id": "",
       "version_major": 2,
       "version_minor": 0
      },
      "text/plain": [
       "FloatProgress(value=0.0, bar_style='info', description='Progress:', layout=Layout(height='25px', width='50%'),…"
      ]
     },
     "metadata": {},
     "output_type": "display_data"
    },
    {
     "name": "stderr",
     "output_type": "stream",
     "text": [
      "An error was encountered:\n",
      "Unable to register model. Please try after some time\n",
      "Traceback (most recent call last):\n",
      "  File \"/home/mosaic-ai/.pyenv/versions/3.6.2/lib/python3.6/site-packages/mosaicml/api.py\", line 230, in register_model\n",
      "    model_info=model_info,\n",
      "  File \"/home/mosaic-ai/.pyenv/versions/3.6.2/lib/python3.6/site-packages/mosaicml/api.py\", line 342, in register\n",
      "    raise Exception(response.text)\n",
      "Exception: Unable to register model. Please try after some time\n",
      "\n"
     ]
    }
   ],
   "source": [
    "register_model(regression_pipeline, score, \"Boston_Regression_Analysis_inter_july4\", \"pyspark model\", MLModelFlavours.pyspark)"
   ]
  },
  {
   "cell_type": "code",
   "execution_count": null,
   "metadata": {},
   "outputs": [],
   "source": []
  }
 ],
 "metadata": {
  "kernelspec": {
   "display_name": "PySpark",
   "language": "python",
   "name": "pysparkkernel"
  },
  "language_info": {
   "codemirror_mode": {
    "name": "python",
    "version": 3
   },
   "file_extension": ".py",
   "mimetype": "text/x-python",
   "name": "pyspark",
   "pygments_lexer": "python3"
  }
 },
 "nbformat": 4,
 "nbformat_minor": 5
}
