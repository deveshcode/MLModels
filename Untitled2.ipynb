{
 "cells": [
  {
   "cell_type": "code",
   "execution_count": 7,
   "metadata": {},
   "outputs": [
    {
     "name": "stderr",
     "output_type": "stream",
     "text": [
      "An error was encountered:\n",
      "Session 1 unexpectedly reached final status 'error'. See logs:\n",
      "stdout: \n",
      "\n",
      "stderr: \n",
      "21/06/26 14:48:59 INFO SparkUI: Bound SparkUI to 0.0.0.0, and started at http://livy-spark-6c796bc968-n8v52:4041\n",
      "21/06/26 14:48:59 INFO SparkContext: Added JAR file:///app/apache-livy-0.6.0-incubating-bin/rsc-jars/livy-api-0.6.0-incubating.jar at spark://livy-spark-6c796bc968-n8v52:40082/jars/livy-api-0.6.0-incubating.jar with timestamp 1624718939160\n",
      "21/06/26 14:48:59 INFO SparkContext: Added JAR file:///app/apache-livy-0.6.0-incubating-bin/rsc-jars/livy-rsc-0.6.0-incubating.jar at spark://livy-spark-6c796bc968-n8v52:40082/jars/livy-rsc-0.6.0-incubating.jar with timestamp 1624718939161\n",
      "21/06/26 14:48:59 INFO SparkContext: Added JAR file:///app/apache-livy-0.6.0-incubating-bin/rsc-jars/livy-thriftserver-session-0.6.0-incubating.jar at spark://livy-spark-6c796bc968-n8v52:40082/jars/livy-thriftserver-session-0.6.0-incubating.jar with timestamp 1624718939161\n",
      "21/06/26 14:48:59 INFO SparkContext: Added JAR file:///app/apache-livy-0.6.0-incubating-bin/rsc-jars/netty-all-4.0.37.Final.jar at spark://livy-spark-6c796bc968-n8v52:40082/jars/netty-all-4.0.37.Final.jar with timestamp 1624718939161\n",
      "21/06/26 14:48:59 INFO SparkContext: Added JAR file:///app/apache-livy-0.6.0-incubating-bin/repl_2.11-jars/commons-codec-1.9.jar at spark://livy-spark-6c796bc968-n8v52:40082/jars/commons-codec-1.9.jar with timestamp 1624718939161\n",
      "21/06/26 14:48:59 INFO SparkContext: Added JAR file:///app/apache-livy-0.6.0-incubating-bin/repl_2.11-jars/livy-core_2.11-0.6.0-incubating.jar at spark://livy-spark-6c796bc968-n8v52:40082/jars/livy-core_2.11-0.6.0-incubating.jar with timestamp 1624718939161\n",
      "21/06/26 14:48:59 INFO SparkContext: Added JAR file:///app/apache-livy-0.6.0-incubating-bin/repl_2.11-jars/livy-repl_2.11-0.6.0-incubating.jar at spark://livy-spark-6c796bc968-n8v52:40082/jars/livy-repl_2.11-0.6.0-incubating.jar with timestamp 1624718939161\n",
      "21/06/26 14:48:59 INFO StandaloneAppClient$ClientEndpoint: Connecting to master spark://spark-master:7077...\n",
      "21/06/26 14:48:59 INFO TransportClientFactory: Successfully created connection to spark-master/10.96.57.1:7077 after 9 ms (0 ms spent in bootstraps)\n",
      "21/06/26 14:48:59 INFO StandaloneSchedulerBackend: Connected to Spark cluster with app ID app-20210626144933-0005\n",
      "21/06/26 14:48:59 INFO Utils: Successfully started service 'org.apache.spark.network.netty.NettyBlockTransferService' on port 43041.\n",
      "21/06/26 14:48:59 INFO NettyBlockTransferService: Server created on livy-spark-6c796bc968-n8v52:43041\n",
      "21/06/26 14:48:59 INFO BlockManager: Using org.apache.spark.storage.RandomBlockReplicationPolicy for block replication policy\n",
      "21/06/26 14:48:59 INFO BlockManagerMaster: Registering BlockManager BlockManagerId(driver, livy-spark-6c796bc968-n8v52, 43041, None)\n",
      "21/06/26 14:48:59 INFO BlockManagerMasterEndpoint: Registering block manager livy-spark-6c796bc968-n8v52:43041 with 366.3 MB RAM, BlockManagerId(driver, livy-spark-6c796bc968-n8v52, 43041, None)\n",
      "21/06/26 14:48:59 INFO BlockManagerMaster: Registered BlockManager BlockManagerId(driver, livy-spark-6c796bc968-n8v52, 43041, None)\n",
      "21/06/26 14:48:59 INFO BlockManager: external shuffle service port = 7337\n",
      "21/06/26 14:48:59 INFO BlockManager: Initialized BlockManager: BlockManagerId(driver, livy-spark-6c796bc968-n8v52, 43041, None)\n",
      "21/06/26 14:48:59 INFO Utils: Using initial executors = 0, max of spark.dynamicAllocation.initialExecutors, spark.dynamicAllocation.minExecutors and spark.executor.instances\n",
      "21/06/26 14:48:59 INFO StandaloneSchedulerBackend: SchedulerBackend is ready for scheduling beginning after reached minRegisteredResourcesRatio: 0.0\n",
      "21/06/26 14:48:59 INFO SparkEntries: Spark context finished initialization in 1422ms\n",
      "21/06/26 14:48:59 INFO SparkEntries: Created Spark session.\n",
      "21/06/26 14:49:06 INFO SparkEntries: Created SQLContext.\n",
      "21/06/26 14:49:28 INFO SharedState: Setting hive.metastore.warehouse.dir ('null') to the value of spark.sql.warehouse.dir ('file:/app/apache-livy-0.6.0-incubating-bin/spark-warehouse').\n",
      "21/06/26 14:49:28 INFO SharedState: Warehouse path is 'file:/app/apache-livy-0.6.0-incubating-bin/spark-warehouse'.\n",
      "21/06/26 14:49:29 INFO StateStoreCoordinatorRef: Registered StateStoreCoordinator endpoint\n",
      "21/06/26 14:49:29 INFO Version: Elasticsearch Hadoop v5.1.1 [c94f085010]\n",
      "21/06/26 14:49:29 WARN MetricsConfig: Cannot locate configuration: tried hadoop-metrics2-azure-file-system.properties,hadoop-metrics2.properties\n",
      "21/06/26 14:49:29 INFO MetricsSystemImpl: Scheduled snapshot period at 10 second(s).\n",
      "21/06/26 14:49:29 INFO MetricsSystemImpl: azure-file-system metrics system started\n",
      "21/06/26 14:49:32 INFO FileSourceStrategy: Pruning directories with: \n",
      "21/06/26 14:49:32 INFO FileSourceStrategy: Post-Scan Filters: (length(trim(value#0, None)) > 0)\n",
      "21/06/26 14:49:32 INFO FileSourceStrategy: Output Data Schema: struct<value: string>\n",
      "21/06/26 14:49:32 INFO FileSourceScanExec: Pushed Filters: \n",
      "21/06/26 14:49:32 INFO CodeGenerator: Code generated in 174.323334 ms\n",
      "21/06/26 14:49:33 INFO CodeGenerator: Code generated in 15.012038 ms\n",
      "21/06/26 14:49:33 INFO MemoryStore: Block broadcast_0 stored as values in memory (estimated size 286.0 KB, free 366.0 MB)\n",
      "21/06/26 14:49:33 INFO MemoryStore: Block broadcast_0_piece0 stored as bytes in memory (estimated size 24.3 KB, free 366.0 MB)\n",
      "21/06/26 14:49:33 INFO BlockManagerInfo: Added broadcast_0_piece0 in memory on livy-spark-6c796bc968-n8v52:43041 (size: 24.3 KB, free: 366.3 MB)\n",
      "21/06/26 14:49:33 INFO SparkContext: Created broadcast 0 from load at NativeMethodAccessorImpl.java:0\n",
      "21/06/26 14:49:33 INFO FileSourceScanExec: Planning scan with bin packing, max size: 4230437 bytes, open cost is considered as scanning 4194304 bytes.\n",
      "21/06/26 14:49:33 INFO SparkContext: Starting job: load at NativeMethodAccessorImpl.java:0\n",
      "21/06/26 14:49:33 INFO DAGScheduler: Got job 0 (load at NativeMethodAccessorImpl.java:0) with 1 output partitions\n",
      "21/06/26 14:49:33 INFO DAGScheduler: Final stage: ResultStage 0 (load at NativeMethodAccessorImpl.java:0)\n",
      "21/06/26 14:49:33 INFO DAGScheduler: Parents of final stage: List()\n",
      "21/06/26 14:49:33 INFO DAGScheduler: Missing parents: List()\n",
      "21/06/26 14:49:33 INFO DAGScheduler: Submitting ResultStage 0 (MapPartitionsRDD[3] at load at NativeMethodAccessorImpl.java:0), which has no missing parents\n",
      "21/06/26 14:49:33 INFO MemoryStore: Block broadcast_1 stored as values in memory (estimated size 8.8 KB, free 366.0 MB)\n",
      "21/06/26 14:49:33 INFO MemoryStore: Block broadcast_1_piece0 stored as bytes in memory (estimated size 4.5 KB, free 366.0 MB)\n",
      "21/06/26 14:49:33 INFO BlockManagerInfo: Added broadcast_1_piece0 in memory on livy-spark-6c796bc968-n8v52:43041 (size: 4.5 KB, free: 366.3 MB)\n",
      "21/06/26 14:49:33 INFO SparkContext: Created broadcast 1 from broadcast at DAGScheduler.scala:1161\n",
      "21/06/26 14:49:33 INFO DAGScheduler: Submitting 1 missing tasks from ResultStage 0 (MapPartitionsRDD[3] at load at NativeMethodAccessorImpl.java:0) (first 15 tasks are for partitions Vector(0))\n",
      "21/06/26 14:49:33 INFO TaskSchedulerImpl: Adding task set 0.0 with 1 tasks\n",
      "21/06/26 14:49:34 INFO ExecutorAllocationManager: Requesting 1 new executor because tasks are backlogged (new desired total will be 1)\n",
      "21/06/26 14:49:34 INFO StandaloneAppClient$ClientEndpoint: Executor added: app-20210626144933-0005/0 on worker-20210611185624-10.244.6.143-38083 (10.244.6.143:38083) with 2 core(s)\n",
      "21/06/26 14:49:34 INFO StandaloneSchedulerBackend: Granted executor ID app-20210626144933-0005/0 on hostPort 10.244.6.143:38083 with 2 core(s), 2000.0 MB RAM\n",
      "21/06/26 14:49:34 INFO StandaloneAppClient$ClientEndpoint: Executor updated: app-20210626144933-0005/0 is now RUNNING\n",
      "21/06/26 14:49:37 INFO CoarseGrainedSchedulerBackend$DriverEndpoint: Registered executor NettyRpcEndpointRef(spark-client://Executor) (10.244.6.143:44736) with ID 0\n",
      "21/06/26 14:49:37 INFO ExecutorAllocationManager: New executor 0 has registered (new total is 1)\n",
      "21/06/26 14:49:37 INFO TaskSetManager: Starting task 0.0 in stage 0.0 (TID 0, 10.244.6.143, executor 0, partition 0, PROCESS_LOCAL, 8439 bytes)\n",
      "21/06/26 14:49:37 INFO BlockManagerMasterEndpoint: Registering block manager 10.244.6.143:33347 with 886.8 MB RAM, BlockManagerId(0, 10.244.6.143, 33347, None)\n",
      "21/06/26 14:49:38 INFO BlockManagerInfo: Added broadcast_1_piece0 in memory on 10.244.6.143:33347 (size: 4.5 KB, free: 886.8 MB)\n",
      "21/06/26 14:49:38 INFO BlockManagerInfo: Added broadcast_0_piece0 in memory on 10.244.6.143:33347 (size: 24.3 KB, free: 886.8 MB)\n",
      "21/06/26 14:49:40 INFO TaskSetManager: Finished task 0.0 in stage 0.0 (TID 0) in 2570 ms on 10.244.6.143 (executor 0) (1/1)\n",
      "21/06/26 14:49:40 INFO TaskSchedulerImpl: Removed TaskSet 0.0, whose tasks have all completed, from pool \n",
      "21/06/26 14:49:40 INFO DAGScheduler: ResultStage 0 (load at NativeMethodAccessorImpl.java:0) finished in 6.507 s\n",
      "21/06/26 14:49:40 INFO DAGScheduler: Job 0 finished: load at NativeMethodAccessorImpl.java:0, took 6.555496 s\n",
      "21/06/26 14:49:40 INFO BlockManagerInfo: Removed broadcast_1_piece0 on livy-spark-6c796bc968-n8v52:43041 in memory (size: 4.5 KB, free: 366.3 MB)\n",
      "21/06/26 14:49:40 INFO BlockManagerInfo: Removed broadcast_1_piece0 on 10.244.6.143:33347 in memory (size: 4.5 KB, free: 886.8 MB)\n",
      "21/06/26 14:49:40 INFO ContextCleaner: Cleaned accumulator 19\n",
      "21/06/26 14:49:40 INFO ContextCleaner: Cleaned accumulator 12\n",
      "21/06/26 14:49:40 INFO ContextCleaner: Cleaned accumulator 21\n",
      "21/06/26 14:49:40 INFO ContextCleaner: Cleaned accumulator 26\n",
      "21/06/26 14:49:40 INFO ContextCleaner: Cleaned accumulator 23\n",
      "21/06/26 14:49:40 INFO ContextCleaner: Cleaned accumulator 25\n",
      "21/06/26 14:49:40 INFO ContextCleaner: Cleaned accumulator 15\n",
      "21/06/26 14:49:40 INFO ContextCleaner: Cleaned accumulator 13\n",
      "21/06/26 14:49:40 INFO ContextCleaner: Cleaned accumulator 7\n",
      "21/06/26 14:49:40 INFO ContextCleaner: Cleaned accumulator 5\n",
      "21/06/26 14:49:40 INFO ContextCleaner: Cleaned accumulator 20\n",
      "21/06/26 14:49:40 INFO ContextCleaner: Cleaned accumulator 10\n",
      "21/06/26 14:49:40 INFO ContextCleaner: Cleaned accumulator 18\n",
      "21/06/26 14:49:40 INFO ContextCleaner: Cleaned accumulator 8\n",
      "21/06/26 14:49:40 INFO ContextCleaner: Cleaned accumulator 9\n",
      "21/06/26 14:49:40 INFO ContextCleaner: Cleaned accumulator 27\n",
      "21/06/26 14:49:40 INFO ContextCleaner: Cleaned accumulator 16\n",
      "21/06/26 14:49:40 INFO ContextCleaner: Cleaned accumulator 31\n",
      "21/06/26 14:49:40 INFO ContextCleaner: Cleaned accumulator 30\n",
      "21/06/26 14:49:40 INFO ContextCleaner: Cleaned accumulator 17\n",
      "21/06/26 14:49:40 INFO ContextCleaner: Cleaned accumulator 28\n",
      "21/06/26 14:49:40 INFO ContextCleaner: Cleaned accumulator 11\n",
      "21/06/26 14:49:40 INFO ContextCleaner: Cleaned accumulator 24\n",
      "21/06/26 14:49:40 INFO ContextCleaner: Cleaned accumulator 29\n",
      "21/06/26 14:49:40 INFO ContextCleaner: Cleaned accumulator 3\n",
      "21/06/26 14:49:40 INFO ContextCleaner: Cleaned accumulator 1\n",
      "21/06/26 14:49:40 INFO ContextCleaner: Cleaned accumulator 22\n",
      "21/06/26 14:49:40 INFO ContextCleaner: Cleaned accumulator 6\n"
     ]
    }
   ],
   "source": [
    "from mosaicml import *\n",
    "from mosaicml.constants import MLModelFlavours\n",
    "from werkzeug.datastructures import FileStorage\n",
    "import pandas as pd\n",
    "import os, tempfile"
   ]
  },
  {
   "cell_type": "code",
   "execution_count": 2,
   "metadata": {},
   "outputs": [
    {
     "data": {
      "application/vnd.jupyter.widget-view+json": {
       "model_id": "",
       "version_major": 2,
       "version_minor": 0
      },
      "text/plain": [
       "FloatProgress(value=0.0, bar_style='info', description='Progress:', layout=Layout(height='25px', width='50%'),…"
      ]
     },
     "metadata": {},
     "output_type": "display_data"
    }
   ],
   "source": [
    "from pyspark.sql import SparkSession\n",
    "from pyspark.ml.feature import VectorAssembler\n",
    "from pyspark.ml.regression import LinearRegression\n",
    "from pyspark.ml import Pipeline"
   ]
  },
  {
   "cell_type": "code",
   "execution_count": 3,
   "metadata": {},
   "outputs": [
    {
     "data": {
      "application/vnd.jupyter.widget-view+json": {
       "model_id": "",
       "version_major": 2,
       "version_minor": 0
      },
      "text/plain": [
       "FloatProgress(value=0.0, bar_style='info', description='Progress:', layout=Layout(height='25px', width='50%'),…"
      ]
     },
     "metadata": {},
     "output_type": "display_data"
    },
    {
     "name": "stdout",
     "output_type": "stream",
     "text": [
      "-----reading data from azure"
     ]
    }
   ],
   "source": [
    "\n",
    "# print(\"-----creating spark session\")\n",
    "# spark = SparkSession.builder.appName(\"jupyter-nb-test\").getOrCreate()\n",
    "# spark.sparkContext.setLogLevel('WARN')\n",
    "\n",
    "print(\"-----reading data from azure\")\n",
    "storage_account_name = \"pocmosaic\"\n",
    "storage_account_access_key = \"iX6jZejeNh1bUejdSRYk+4X2S/pAbTy+idkTM5UAw2HxgxSnaYGJSN+ffzZAQ5/Q6xQe2Ja74Re9nKHMVmsGhA==\"\n",
    "file_location = \"wasbs://container1@pocmosaic.blob.core.windows.net/catalog/local_file_upload/RatanBBostonHousing.csv\"\n",
    "file_type = \"csv\"\n",
    "spark.conf.set(\"fs.azure.account.key.\"+storage_account_name+\".blob.core.windows.net\",storage_account_access_key)\n",
    "dataset = spark.read.option(\"header\", \"true\").format(file_type).option(\"inferSchema\", \"true\").load(file_location)\n"
   ]
  },
  {
   "cell_type": "code",
   "execution_count": 4,
   "metadata": {},
   "outputs": [
    {
     "data": {
      "application/vnd.jupyter.widget-view+json": {
       "model_id": "",
       "version_major": 2,
       "version_minor": 0
      },
      "text/plain": [
       "FloatProgress(value=0.0, bar_style='info', description='Progress:', layout=Layout(height='25px', width='50%'),…"
      ]
     },
     "metadata": {},
     "output_type": "display_data"
    },
    {
     "name": "stdout",
     "output_type": "stream",
     "text": [
      "+-------+----+-----+----+-----+-----+-----+------+---+---+-------+------+-----+----+\n",
      "|   crim|  zn|indus|chas|  nox|   rm|  age|   dis|rad|tax|ptratio|     b|lstat|medv|\n",
      "+-------+----+-----+----+-----+-----+-----+------+---+---+-------+------+-----+----+\n",
      "|0.00632|18.0| 2.31|   0|0.538|6.575| 65.2|  4.09|  1|296|   15.3| 396.9| 4.98|24.0|\n",
      "|0.02731| 0.0| 7.07|   0|0.469|6.421| 78.9|4.9671|  2|242|   17.8| 396.9| 9.14|21.6|\n",
      "|0.02729| 0.0| 7.07|   0|0.469|7.185| 61.1|4.9671|  2|242|   17.8|392.83| 4.03|34.7|\n",
      "|0.03237| 0.0| 2.18|   0|0.458|6.998| 45.8|6.0622|  3|222|   18.7|394.63| 2.94|33.4|\n",
      "|0.06905| 0.0| 2.18|   0|0.458|7.147| 54.2|6.0622|  3|222|   18.7| 396.9| 5.33|36.2|\n",
      "|0.02985| 0.0| 2.18|   0|0.458| 6.43| 58.7|6.0622|  3|222|   18.7|394.12| 5.21|28.7|\n",
      "|0.08829|12.5| 7.87|   0|0.524|6.012| 66.6|5.5605|  5|311|   15.2| 395.6|12.43|22.9|\n",
      "|0.14455|12.5| 7.87|   0|0.524|6.172| 96.1|5.9505|  5|311|   15.2| 396.9|19.15|27.1|\n",
      "|0.21124|12.5| 7.87|   0|0.524|5.631|100.0|6.0821|  5|311|   15.2|386.63|29.93|16.5|\n",
      "|0.17004|12.5| 7.87|   0|0.524|6.004| 85.9|6.5921|  5|311|   15.2|386.71| 17.1|18.9|\n",
      "|0.22489|12.5| 7.87|   0|0.524|6.377| 94.3|6.3467|  5|311|   15.2|392.52|20.45|15.0|\n",
      "|0.11747|12.5| 7.87|   0|0.524|6.009| 82.9|6.2267|  5|311|   15.2| 396.9|13.27|18.9|\n",
      "|0.09378|12.5| 7.87|   0|0.524|5.889| 39.0|5.4509|  5|311|   15.2| 390.5|15.71|21.7|\n",
      "|0.62976| 0.0| 8.14|   0|0.538|5.949| 61.8|4.7075|  4|307|   21.0| 396.9| 8.26|20.4|\n",
      "|0.63796| 0.0| 8.14|   0|0.538|6.096| 84.5|4.4619|  4|307|   21.0|380.02|10.26|18.2|\n",
      "|0.62739| 0.0| 8.14|   0|0.538|5.834| 56.5|4.4986|  4|307|   21.0|395.62| 8.47|19.9|\n",
      "|1.05393| 0.0| 8.14|   0|0.538|5.935| 29.3|4.4986|  4|307|   21.0|386.85| 6.58|23.1|\n",
      "| 0.7842| 0.0| 8.14|   0|0.538| 5.99| 81.7|4.2579|  4|307|   21.0|386.75|14.67|17.5|\n",
      "|0.80271| 0.0| 8.14|   0|0.538|5.456| 36.6|3.7965|  4|307|   21.0|288.99|11.69|20.2|\n",
      "| 0.7258| 0.0| 8.14|   0|0.538|5.727| 69.5|3.7965|  4|307|   21.0|390.95|11.28|18.2|\n",
      "+-------+----+-----+----+-----+-----+-----+------+---+---+-------+------+-----+----+\n",
      "only showing top 20 rows"
     ]
    }
   ],
   "source": [
    "dataset.show()"
   ]
  },
  {
   "cell_type": "code",
   "execution_count": 6,
   "metadata": {},
   "outputs": [
    {
     "name": "stderr",
     "output_type": "stream",
     "text": [
      "An error was encountered:\n",
      "Session 1 unexpectedly reached final status 'error'. See logs:\n",
      "stdout: \n",
      "\n",
      "stderr: \n",
      "21/06/26 14:48:59 INFO SparkUI: Bound SparkUI to 0.0.0.0, and started at http://livy-spark-6c796bc968-n8v52:4041\n",
      "21/06/26 14:48:59 INFO SparkContext: Added JAR file:///app/apache-livy-0.6.0-incubating-bin/rsc-jars/livy-api-0.6.0-incubating.jar at spark://livy-spark-6c796bc968-n8v52:40082/jars/livy-api-0.6.0-incubating.jar with timestamp 1624718939160\n",
      "21/06/26 14:48:59 INFO SparkContext: Added JAR file:///app/apache-livy-0.6.0-incubating-bin/rsc-jars/livy-rsc-0.6.0-incubating.jar at spark://livy-spark-6c796bc968-n8v52:40082/jars/livy-rsc-0.6.0-incubating.jar with timestamp 1624718939161\n",
      "21/06/26 14:48:59 INFO SparkContext: Added JAR file:///app/apache-livy-0.6.0-incubating-bin/rsc-jars/livy-thriftserver-session-0.6.0-incubating.jar at spark://livy-spark-6c796bc968-n8v52:40082/jars/livy-thriftserver-session-0.6.0-incubating.jar with timestamp 1624718939161\n",
      "21/06/26 14:48:59 INFO SparkContext: Added JAR file:///app/apache-livy-0.6.0-incubating-bin/rsc-jars/netty-all-4.0.37.Final.jar at spark://livy-spark-6c796bc968-n8v52:40082/jars/netty-all-4.0.37.Final.jar with timestamp 1624718939161\n",
      "21/06/26 14:48:59 INFO SparkContext: Added JAR file:///app/apache-livy-0.6.0-incubating-bin/repl_2.11-jars/commons-codec-1.9.jar at spark://livy-spark-6c796bc968-n8v52:40082/jars/commons-codec-1.9.jar with timestamp 1624718939161\n",
      "21/06/26 14:48:59 INFO SparkContext: Added JAR file:///app/apache-livy-0.6.0-incubating-bin/repl_2.11-jars/livy-core_2.11-0.6.0-incubating.jar at spark://livy-spark-6c796bc968-n8v52:40082/jars/livy-core_2.11-0.6.0-incubating.jar with timestamp 1624718939161\n",
      "21/06/26 14:48:59 INFO SparkContext: Added JAR file:///app/apache-livy-0.6.0-incubating-bin/repl_2.11-jars/livy-repl_2.11-0.6.0-incubating.jar at spark://livy-spark-6c796bc968-n8v52:40082/jars/livy-repl_2.11-0.6.0-incubating.jar with timestamp 1624718939161\n",
      "21/06/26 14:48:59 INFO StandaloneAppClient$ClientEndpoint: Connecting to master spark://spark-master:7077...\n",
      "21/06/26 14:48:59 INFO TransportClientFactory: Successfully created connection to spark-master/10.96.57.1:7077 after 9 ms (0 ms spent in bootstraps)\n",
      "21/06/26 14:48:59 INFO StandaloneSchedulerBackend: Connected to Spark cluster with app ID app-20210626144933-0005\n",
      "21/06/26 14:48:59 INFO Utils: Successfully started service 'org.apache.spark.network.netty.NettyBlockTransferService' on port 43041.\n",
      "21/06/26 14:48:59 INFO NettyBlockTransferService: Server created on livy-spark-6c796bc968-n8v52:43041\n",
      "21/06/26 14:48:59 INFO BlockManager: Using org.apache.spark.storage.RandomBlockReplicationPolicy for block replication policy\n",
      "21/06/26 14:48:59 INFO BlockManagerMaster: Registering BlockManager BlockManagerId(driver, livy-spark-6c796bc968-n8v52, 43041, None)\n",
      "21/06/26 14:48:59 INFO BlockManagerMasterEndpoint: Registering block manager livy-spark-6c796bc968-n8v52:43041 with 366.3 MB RAM, BlockManagerId(driver, livy-spark-6c796bc968-n8v52, 43041, None)\n",
      "21/06/26 14:48:59 INFO BlockManagerMaster: Registered BlockManager BlockManagerId(driver, livy-spark-6c796bc968-n8v52, 43041, None)\n",
      "21/06/26 14:48:59 INFO BlockManager: external shuffle service port = 7337\n",
      "21/06/26 14:48:59 INFO BlockManager: Initialized BlockManager: BlockManagerId(driver, livy-spark-6c796bc968-n8v52, 43041, None)\n",
      "21/06/26 14:48:59 INFO Utils: Using initial executors = 0, max of spark.dynamicAllocation.initialExecutors, spark.dynamicAllocation.minExecutors and spark.executor.instances\n",
      "21/06/26 14:48:59 INFO StandaloneSchedulerBackend: SchedulerBackend is ready for scheduling beginning after reached minRegisteredResourcesRatio: 0.0\n",
      "21/06/26 14:48:59 INFO SparkEntries: Spark context finished initialization in 1422ms\n",
      "21/06/26 14:48:59 INFO SparkEntries: Created Spark session.\n",
      "21/06/26 14:49:06 INFO SparkEntries: Created SQLContext.\n",
      "21/06/26 14:49:28 INFO SharedState: Setting hive.metastore.warehouse.dir ('null') to the value of spark.sql.warehouse.dir ('file:/app/apache-livy-0.6.0-incubating-bin/spark-warehouse').\n",
      "21/06/26 14:49:28 INFO SharedState: Warehouse path is 'file:/app/apache-livy-0.6.0-incubating-bin/spark-warehouse'.\n",
      "21/06/26 14:49:29 INFO StateStoreCoordinatorRef: Registered StateStoreCoordinator endpoint\n",
      "21/06/26 14:49:29 INFO Version: Elasticsearch Hadoop v5.1.1 [c94f085010]\n",
      "21/06/26 14:49:29 WARN MetricsConfig: Cannot locate configuration: tried hadoop-metrics2-azure-file-system.properties,hadoop-metrics2.properties\n",
      "21/06/26 14:49:29 INFO MetricsSystemImpl: Scheduled snapshot period at 10 second(s).\n",
      "21/06/26 14:49:29 INFO MetricsSystemImpl: azure-file-system metrics system started\n",
      "21/06/26 14:49:32 INFO FileSourceStrategy: Pruning directories with: \n",
      "21/06/26 14:49:32 INFO FileSourceStrategy: Post-Scan Filters: (length(trim(value#0, None)) > 0)\n",
      "21/06/26 14:49:32 INFO FileSourceStrategy: Output Data Schema: struct<value: string>\n",
      "21/06/26 14:49:32 INFO FileSourceScanExec: Pushed Filters: \n",
      "21/06/26 14:49:32 INFO CodeGenerator: Code generated in 174.323334 ms\n",
      "21/06/26 14:49:33 INFO CodeGenerator: Code generated in 15.012038 ms\n",
      "21/06/26 14:49:33 INFO MemoryStore: Block broadcast_0 stored as values in memory (estimated size 286.0 KB, free 366.0 MB)\n",
      "21/06/26 14:49:33 INFO MemoryStore: Block broadcast_0_piece0 stored as bytes in memory (estimated size 24.3 KB, free 366.0 MB)\n",
      "21/06/26 14:49:33 INFO BlockManagerInfo: Added broadcast_0_piece0 in memory on livy-spark-6c796bc968-n8v52:43041 (size: 24.3 KB, free: 366.3 MB)\n",
      "21/06/26 14:49:33 INFO SparkContext: Created broadcast 0 from load at NativeMethodAccessorImpl.java:0\n",
      "21/06/26 14:49:33 INFO FileSourceScanExec: Planning scan with bin packing, max size: 4230437 bytes, open cost is considered as scanning 4194304 bytes.\n",
      "21/06/26 14:49:33 INFO SparkContext: Starting job: load at NativeMethodAccessorImpl.java:0\n",
      "21/06/26 14:49:33 INFO DAGScheduler: Got job 0 (load at NativeMethodAccessorImpl.java:0) with 1 output partitions\n",
      "21/06/26 14:49:33 INFO DAGScheduler: Final stage: ResultStage 0 (load at NativeMethodAccessorImpl.java:0)\n",
      "21/06/26 14:49:33 INFO DAGScheduler: Parents of final stage: List()\n",
      "21/06/26 14:49:33 INFO DAGScheduler: Missing parents: List()\n",
      "21/06/26 14:49:33 INFO DAGScheduler: Submitting ResultStage 0 (MapPartitionsRDD[3] at load at NativeMethodAccessorImpl.java:0), which has no missing parents\n",
      "21/06/26 14:49:33 INFO MemoryStore: Block broadcast_1 stored as values in memory (estimated size 8.8 KB, free 366.0 MB)\n",
      "21/06/26 14:49:33 INFO MemoryStore: Block broadcast_1_piece0 stored as bytes in memory (estimated size 4.5 KB, free 366.0 MB)\n",
      "21/06/26 14:49:33 INFO BlockManagerInfo: Added broadcast_1_piece0 in memory on livy-spark-6c796bc968-n8v52:43041 (size: 4.5 KB, free: 366.3 MB)\n",
      "21/06/26 14:49:33 INFO SparkContext: Created broadcast 1 from broadcast at DAGScheduler.scala:1161\n",
      "21/06/26 14:49:33 INFO DAGScheduler: Submitting 1 missing tasks from ResultStage 0 (MapPartitionsRDD[3] at load at NativeMethodAccessorImpl.java:0) (first 15 tasks are for partitions Vector(0))\n",
      "21/06/26 14:49:33 INFO TaskSchedulerImpl: Adding task set 0.0 with 1 tasks\n",
      "21/06/26 14:49:34 INFO ExecutorAllocationManager: Requesting 1 new executor because tasks are backlogged (new desired total will be 1)\n",
      "21/06/26 14:49:34 INFO StandaloneAppClient$ClientEndpoint: Executor added: app-20210626144933-0005/0 on worker-20210611185624-10.244.6.143-38083 (10.244.6.143:38083) with 2 core(s)\n",
      "21/06/26 14:49:34 INFO StandaloneSchedulerBackend: Granted executor ID app-20210626144933-0005/0 on hostPort 10.244.6.143:38083 with 2 core(s), 2000.0 MB RAM\n",
      "21/06/26 14:49:34 INFO StandaloneAppClient$ClientEndpoint: Executor updated: app-20210626144933-0005/0 is now RUNNING\n",
      "21/06/26 14:49:37 INFO CoarseGrainedSchedulerBackend$DriverEndpoint: Registered executor NettyRpcEndpointRef(spark-client://Executor) (10.244.6.143:44736) with ID 0\n",
      "21/06/26 14:49:37 INFO ExecutorAllocationManager: New executor 0 has registered (new total is 1)\n",
      "21/06/26 14:49:37 INFO TaskSetManager: Starting task 0.0 in stage 0.0 (TID 0, 10.244.6.143, executor 0, partition 0, PROCESS_LOCAL, 8439 bytes)\n",
      "21/06/26 14:49:37 INFO BlockManagerMasterEndpoint: Registering block manager 10.244.6.143:33347 with 886.8 MB RAM, BlockManagerId(0, 10.244.6.143, 33347, None)\n",
      "21/06/26 14:49:38 INFO BlockManagerInfo: Added broadcast_1_piece0 in memory on 10.244.6.143:33347 (size: 4.5 KB, free: 886.8 MB)\n",
      "21/06/26 14:49:38 INFO BlockManagerInfo: Added broadcast_0_piece0 in memory on 10.244.6.143:33347 (size: 24.3 KB, free: 886.8 MB)\n",
      "21/06/26 14:49:40 INFO TaskSetManager: Finished task 0.0 in stage 0.0 (TID 0) in 2570 ms on 10.244.6.143 (executor 0) (1/1)\n",
      "21/06/26 14:49:40 INFO TaskSchedulerImpl: Removed TaskSet 0.0, whose tasks have all completed, from pool \n",
      "21/06/26 14:49:40 INFO DAGScheduler: ResultStage 0 (load at NativeMethodAccessorImpl.java:0) finished in 6.507 s\n",
      "21/06/26 14:49:40 INFO DAGScheduler: Job 0 finished: load at NativeMethodAccessorImpl.java:0, took 6.555496 s\n",
      "21/06/26 14:49:40 INFO BlockManagerInfo: Removed broadcast_1_piece0 on livy-spark-6c796bc968-n8v52:43041 in memory (size: 4.5 KB, free: 366.3 MB)\n",
      "21/06/26 14:49:40 INFO BlockManagerInfo: Removed broadcast_1_piece0 on 10.244.6.143:33347 in memory (size: 4.5 KB, free: 886.8 MB)\n",
      "21/06/26 14:49:40 INFO ContextCleaner: Cleaned accumulator 19\n",
      "21/06/26 14:49:40 INFO ContextCleaner: Cleaned accumulator 12\n",
      "21/06/26 14:49:40 INFO ContextCleaner: Cleaned accumulator 21\n",
      "21/06/26 14:49:40 INFO ContextCleaner: Cleaned accumulator 26\n",
      "21/06/26 14:49:40 INFO ContextCleaner: Cleaned accumulator 23\n",
      "21/06/26 14:49:40 INFO ContextCleaner: Cleaned accumulator 25\n",
      "21/06/26 14:49:40 INFO ContextCleaner: Cleaned accumulator 15\n",
      "21/06/26 14:49:40 INFO ContextCleaner: Cleaned accumulator 13\n",
      "21/06/26 14:49:40 INFO ContextCleaner: Cleaned accumulator 7\n",
      "21/06/26 14:49:40 INFO ContextCleaner: Cleaned accumulator 5\n",
      "21/06/26 14:49:40 INFO ContextCleaner: Cleaned accumulator 20\n",
      "21/06/26 14:49:40 INFO ContextCleaner: Cleaned accumulator 10\n",
      "21/06/26 14:49:40 INFO ContextCleaner: Cleaned accumulator 18\n",
      "21/06/26 14:49:40 INFO ContextCleaner: Cleaned accumulator 8\n",
      "21/06/26 14:49:40 INFO ContextCleaner: Cleaned accumulator 9\n",
      "21/06/26 14:49:40 INFO ContextCleaner: Cleaned accumulator 27\n",
      "21/06/26 14:49:40 INFO ContextCleaner: Cleaned accumulator 16\n",
      "21/06/26 14:49:40 INFO ContextCleaner: Cleaned accumulator 31\n",
      "21/06/26 14:49:40 INFO ContextCleaner: Cleaned accumulator 30\n",
      "21/06/26 14:49:40 INFO ContextCleaner: Cleaned accumulator 17\n",
      "21/06/26 14:49:40 INFO ContextCleaner: Cleaned accumulator 28\n",
      "21/06/26 14:49:40 INFO ContextCleaner: Cleaned accumulator 11\n",
      "21/06/26 14:49:40 INFO ContextCleaner: Cleaned accumulator 24\n",
      "21/06/26 14:49:40 INFO ContextCleaner: Cleaned accumulator 29\n",
      "21/06/26 14:49:40 INFO ContextCleaner: Cleaned accumulator 3\n",
      "21/06/26 14:49:40 INFO ContextCleaner: Cleaned accumulator 1\n",
      "21/06/26 14:49:40 INFO ContextCleaner: Cleaned accumulator 22\n",
      "21/06/26 14:49:40 INFO ContextCleaner: Cleaned accumulator 6\n"
     ]
    }
   ],
   "source": [
    "\n",
    "print(\"-----splitting data\")\n",
    "train_data,test_data = dataset.randomSplit([0.8,0.2])\n",
    "\n",
    "print(\"-----creating pipeline\")\n",
    "stage_1 = VectorAssembler(inputCols=['crim', 'zn', 'indus', 'chas', 'nox', 'rm', 'age', 'dis', 'rad', 'tax', 'ptratio', 'b', 'lstat'], outputCol = 'Attributes')\n",
    "# define stage 5: logistic regression model                          \n",
    "stage_2 = LinearRegression(featuresCol = 'Attributes', labelCol = 'medv')\n",
    "\n",
    "# setup the pipeline\n",
    "regression_pipeline = Pipeline(stages= [stage_1, stage_2])\n",
    "print(\"-----training pipeline\")\n",
    "regression_pipeline = regression_pipeline.fit(train_data)\n",
    "test_update = regression_pipeline.transform(test_data)\n",
    "# test_update.show()\n",
    "\n",
    "#Predict using the model\n",
    "print(\"-----test data\")\n",
    "test_update.show()\n"
   ]
  },
  {
   "cell_type": "code",
   "execution_count": null,
   "metadata": {},
   "outputs": [],
   "source": [
    "\n",
    "# define score function\n",
    "def score(model, request):\n",
    "    data = request.json\n",
    "    df = pd.DataFrame(data, columns=['crim', 'zn', 'indus', 'chas', 'nox', 'rm', 'age', 'dis', 'rad', 'tax', 'ptratio', 'b', 'lstat', 'medv'])\n",
    "    spark = SparkSession.builder.appName(\"jupyter-nb-test\").getOrCreate()\n",
    "    spark_df = spark.createDataFrame(df)\n",
    "    return model.transform(spark_df).toPandas()[\"prediction\"].to_json()\n",
    "\n",
    "print(\"-----defining & testing score function\")\n",
    "import requests\n",
    "req = requests.Request()\n",
    "req.json = [[1, -0.1, 0.0425, 0.0279, 2.4716, -15.2808, 4.2783, -0.0005, -1.4009, 0.2692, -0.013, -0.9905, 0.0084, -0.5533]]\n",
    "rez = score(regression_pipeline, req)\n",
    "print(\"the prediction is {}\".format(rez))\n",
    "\n",
    "print(\"-----register model\")\n",
    "register_model(regression_pipeline, score, \"Boston_Regression_Analysis_jun26_2\", \"pyspark model\", MLModelFlavours.pyspark)"
   ]
  }
 ],
 "metadata": {
  "kernelspec": {
   "display_name": "PySpark",
   "language": "python",
   "name": "pysparkkernel"
  },
  "language_info": {
   "codemirror_mode": {
    "name": "python",
    "version": 3
   },
   "file_extension": ".py",
   "mimetype": "text/x-python",
   "name": "pyspark",
   "pygments_lexer": "python3"
  }
 },
 "nbformat": 4,
 "nbformat_minor": 4
}
